{
 "cells": [
  {
   "cell_type": "code",
   "execution_count": 14,
   "metadata": {},
   "outputs": [],
   "source": [
    "import pandas as pd\n",
    "import numpy as np\n",
    "import seaborn as sns\n",
    "import matplotlib.pyplot as plt"
   ]
  },
  {
   "cell_type": "code",
   "execution_count": 15,
   "metadata": {},
   "outputs": [
    {
     "data": {
      "text/html": [
       "<div>\n",
       "<style scoped>\n",
       "    .dataframe tbody tr th:only-of-type {\n",
       "        vertical-align: middle;\n",
       "    }\n",
       "\n",
       "    .dataframe tbody tr th {\n",
       "        vertical-align: top;\n",
       "    }\n",
       "\n",
       "    .dataframe thead th {\n",
       "        text-align: right;\n",
       "    }\n",
       "</style>\n",
       "<table border=\"1\" class=\"dataframe\">\n",
       "  <thead>\n",
       "    <tr style=\"text-align: right;\">\n",
       "      <th></th>\n",
       "      <th>Year</th>\n",
       "      <th>school</th>\n",
       "      <th>teaching_method</th>\n",
       "      <th>pretest</th>\n",
       "      <th>posttest</th>\n",
       "    </tr>\n",
       "  </thead>\n",
       "  <tbody>\n",
       "    <tr>\n",
       "      <th>0</th>\n",
       "      <td>2020.0</td>\n",
       "      <td>Truong THPT Chuyên Vinh Phuc</td>\n",
       "      <td>Standard</td>\n",
       "      <td>6.2</td>\n",
       "      <td>7.2</td>\n",
       "    </tr>\n",
       "    <tr>\n",
       "      <th>1</th>\n",
       "      <td>2019.0</td>\n",
       "      <td>Truong THPT Chuyên Vinh Phuc</td>\n",
       "      <td>Standard</td>\n",
       "      <td>6.6</td>\n",
       "      <td>7.9</td>\n",
       "    </tr>\n",
       "    <tr>\n",
       "      <th>2</th>\n",
       "      <td>2018.0</td>\n",
       "      <td>Truong THPT Chuyên Vinh Phuc</td>\n",
       "      <td>Standard</td>\n",
       "      <td>6.4</td>\n",
       "      <td>7.6</td>\n",
       "    </tr>\n",
       "    <tr>\n",
       "      <th>3</th>\n",
       "      <td>2017.0</td>\n",
       "      <td>Truong THPT Chuyên Vinh Phuc</td>\n",
       "      <td>Standard</td>\n",
       "      <td>6.1</td>\n",
       "      <td>7.7</td>\n",
       "    </tr>\n",
       "    <tr>\n",
       "      <th>4</th>\n",
       "      <td>2016.0</td>\n",
       "      <td>Truong THPT Chuyên Vinh Phuc</td>\n",
       "      <td>Standard</td>\n",
       "      <td>6.4</td>\n",
       "      <td>7.6</td>\n",
       "    </tr>\n",
       "  </tbody>\n",
       "</table>\n",
       "</div>"
      ],
      "text/plain": [
       "     Year                        school teaching_method  pretest  posttest\n",
       "0  2020.0  Truong THPT Chuyên Vinh Phuc        Standard      6.2       7.2\n",
       "1  2019.0  Truong THPT Chuyên Vinh Phuc        Standard      6.6       7.9\n",
       "2  2018.0  Truong THPT Chuyên Vinh Phuc        Standard      6.4       7.6\n",
       "3  2017.0  Truong THPT Chuyên Vinh Phuc        Standard      6.1       7.7\n",
       "4  2016.0  Truong THPT Chuyên Vinh Phuc        Standard      6.4       7.6"
      ]
     },
     "execution_count": 15,
     "metadata": {},
     "output_type": "execute_result"
    }
   ],
   "source": [
    "data = pd.read_csv('THPTQG.csv')\n",
    "data.head()"
   ]
  },
  {
   "cell_type": "code",
   "execution_count": 12,
   "metadata": {},
   "outputs": [
    {
     "name": "stdout",
     "output_type": "stream",
     "text": [
      "<class 'pandas.core.frame.DataFrame'>\n",
      "RangeIndex: 2135 entries, 0 to 2134\n",
      "Data columns (total 5 columns):\n",
      " #   Column           Non-Null Count  Dtype  \n",
      "---  ------           --------------  -----  \n",
      " 0   Year             2133 non-null   float64\n",
      " 1   school           2133 non-null   object \n",
      " 2   teaching_method  2133 non-null   object \n",
      " 3   pretest          2133 non-null   float64\n",
      " 4   posttest         2133 non-null   float64\n",
      "dtypes: float64(3), object(2)\n",
      "memory usage: 83.5+ KB\n"
     ]
    }
   ],
   "source": [
    "data.info()"
   ]
  },
  {
   "cell_type": "code",
   "execution_count": 16,
   "metadata": {},
   "outputs": [],
   "source": [
    "#Lọc nhiễu các giá trị cực đại hoặc cực tiểu\n",
    "\n",
    "def outliers(data_temp, k=3):\n",
    "    q1, q3 = np.percentile(data_temp, [25, 75])\n",
    "    \n",
    "    iqr = q3 - q1\n",
    "    lower_bound = q1 - (k * iqr)\n",
    "    upper_bound = q3 + (k * iqr)\n",
    "    \n",
    "    outliers = [index for index,x in enumerate(data_temp) if x < lower_bound or x > upper_bound]\n",
    "    \n",
    "    return outliers"
   ]
  },
  {
   "cell_type": "code",
   "execution_count": 21,
   "metadata": {},
   "outputs": [
    {
     "name": "stdout",
     "output_type": "stream",
     "text": [
      "        Year  school  teaching_method  pretest\n",
      "0     2020.0       1                1      6.2\n",
      "1     2019.0       1                1      6.6\n",
      "2     2018.0       1                1      6.4\n",
      "3     2017.0       1                1      6.1\n",
      "4     2016.0       1                1      6.4\n",
      "...      ...     ...              ...      ...\n",
      "2128  1908.0      14                1      3.9\n",
      "2129  1907.0      14                1      3.8\n",
      "2130  1906.0      14                1      4.5\n",
      "2131  1905.0      14                1      4.6\n",
      "2132  1904.0      14                1      4.1\n",
      "\n",
      "[2133 rows x 4 columns]\n"
     ]
    }
   ],
   "source": [
    "#Xóa các ô rỗng\n",
    "data.dropna(axis=0, how='any', inplace=True)\n",
    "\n",
    "x = data.drop(['posttest'],axis=1)\n",
    "y = data['posttest']\n",
    "\n",
    "#SỐ hóa dữ liệu\n",
    "Truong = data['school'].unique()\n",
    "ppday = data['teaching_method'].unique()\n",
    "\n",
    "cat_features = np.array([i for i in data.columns.tolist() if data[i].dtype == 'object'])\n",
    "cont_features = np.array([i for i in data.columns.tolist() if data[i].dtype != 'object'])\n",
    "\n",
    "from sklearn.preprocessing import LabelEncoder\n",
    "for i in cat_features:\n",
    "    enc = LabelEncoder()\n",
    "    x[i] =enc.fit_transform(x[i])\n",
    "\n",
    "\n",
    "print(x)"
   ]
  },
  {
   "cell_type": "code",
   "execution_count": 22,
   "metadata": {},
   "outputs": [
    {
     "name": "stdout",
     "output_type": "stream",
     "text": [
      "0       7.2\n",
      "1       7.9\n",
      "2       7.6\n",
      "3       7.7\n",
      "4       7.6\n",
      "       ... \n",
      "2128    5.5\n",
      "2129    4.6\n",
      "2130    5.1\n",
      "2131    5.3\n",
      "2132    4.8\n",
      "Name: posttest, Length: 2133, dtype: float64\n"
     ]
    }
   ],
   "source": [
    "print(y)"
   ]
  },
  {
   "cell_type": "code",
   "execution_count": 24,
   "metadata": {},
   "outputs": [
    {
     "name": "stdout",
     "output_type": "stream",
     "text": [
      "Độ chính xác của mô hình : 0.15268732521307626\n"
     ]
    }
   ],
   "source": [
    "from sklearn.linear_model import LinearRegression\n",
    "from sklearn.model_selection import train_test_split\n",
    "import pickle\n",
    "X_train, X_test, y_train, y_test = train_test_split(x, y, test_size=0.2, random_state=0)\n",
    "model= LinearRegression()\n",
    "model.fit(X_train, y_train)\n",
    "y_pred = model.predict(X_test)\n",
    "\n",
    "with open('linear_regression.pkl','wb') as f:\n",
    "    pickle.dump(model,f)\n",
    "score = model.score(X_test, y_test)\n",
    "print('Độ chính xác của mô hình :', score)"
   ]
  },
  {
   "cell_type": "code",
   "execution_count": 25,
   "metadata": {},
   "outputs": [
    {
     "name": "stdout",
     "output_type": "stream",
     "text": [
      "[('Year', 7.2), ('school', 7.9), ('teaching_method', 7.6), ('pretest', 7.7)]\n"
     ]
    }
   ],
   "source": [
    "data_diem= list(zip(x,y))\n",
    "print(data_diem)"
   ]
  },
  {
   "cell_type": "code",
   "execution_count": 26,
   "metadata": {},
   "outputs": [],
   "source": [
    "def predict_price(Year, school,teaching_method,pretest):\n",
    "    with open('linear_regression.pkl', 'rb') as f:\n",
    "        mmodel = pickle.load(f)\n",
    "    return model.predict([[Year, school,teaching_method,pretest]])[0]"
   ]
  },
  {
   "cell_type": "code",
   "execution_count": 29,
   "metadata": {},
   "outputs": [
    {
     "name": "stdout",
     "output_type": "stream",
     "text": [
      "Điểm dự đoán là: 7.746457029731836 / 10\n"
     ]
    },
    {
     "name": "stderr",
     "output_type": "stream",
     "text": [
      "c:\\Users\\hh\\AppData\\Local\\Programs\\Python\\Python37\\lib\\site-packages\\sklearn\\base.py:451: UserWarning: X does not have valid feature names, but LinearRegression was fitted with feature names\n",
      "  \"X does not have valid feature names, but\"\n"
     ]
    }
   ],
   "source": [
    "Year = float(input('Nhap Nam: '))\n",
    "school = float(input('Nhap ten truong  : '))\n",
    "teaching_method = float(input('Nhap phuong phap giang day : '))\n",
    "pretest = float(input('Nhap diem thi thu : '))\n",
    "\n",
    "\n",
    "posttest = predict_price(Year, school,teaching_method,pretest)\n",
    "\n",
    "if posttest > 10:\n",
    "    posttest = 9.5\n",
    "elif posttest < 0:\n",
    "    posttest = 0\n",
    "\n",
    "print(f'Điểm dự đoán là: {posttest} / 10')\n"
   ]
  }
 ],
 "metadata": {
  "kernelspec": {
   "display_name": "base",
   "language": "python",
   "name": "python3"
  },
  "language_info": {
   "codemirror_mode": {
    "name": "ipython",
    "version": 3
   },
   "file_extension": ".py",
   "mimetype": "text/x-python",
   "name": "python",
   "nbconvert_exporter": "python",
   "pygments_lexer": "ipython3",
   "version": "3.7.8"
  },
  "orig_nbformat": 4
 },
 "nbformat": 4,
 "nbformat_minor": 2
}
